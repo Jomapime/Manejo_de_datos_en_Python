{
  "nbformat": 4,
  "nbformat_minor": 0,
  "metadata": {
    "colab": {
      "provenance": []
    },
    "kernelspec": {
      "name": "python3",
      "display_name": "Python 3"
    },
    "language_info": {
      "name": "python"
    }
  },
  "cells": [
    {
      "cell_type": "markdown",
      "source": [],
      "metadata": {
        "id": "zS552TAPBdx5"
      }
    },
    {
      "cell_type": "markdown",
      "source": [
        "#Grupo 6\n",
        "\n",
        "## Integrantes\n",
        "\n",
        "Daniela Rojas Silva\n",
        "\n",
        "Geraldine Patiño Pardo\n",
        "\n",
        "Natalia Rico Torres\n",
        "\n",
        "Jose Manuel Pinzon Mendivelso\n",
        "\n",
        "Daniel Mateo Quito Rueda"
      ],
      "metadata": {
        "id": "rPL3Ye7yBiKk"
      }
    },
    {
      "cell_type": "markdown",
      "metadata": {
        "id": "FzA7vCjuq960"
      },
      "source": [
        "###  **Ejercicio 1: Indice de masa muscular.**\n",
        "Construir un algoritmo  que permita calcular el IMC teniendo en cuenta que:\n",
        "\n",
        "$IMC=\\frac{Peso(Kg)}{Altura^2(m)}$\n",
        "\n",
        "¿Qué variables solicitaría del usuario?\n",
        "\n",
        "- Si un usuario le comenta que su IMC es de $22.3$ y su estatura es de $1.64 m$, ¿Cómo estimaría el peso del usuario?\n",
        "\n",
        "- Si un usuario le comenta que su IMC es de  $25$  y su paso es de  $78 kg$ , ¿Cómo estimaría la estatura del usuario?"
      ]
    },
    {
      "cell_type": "code",
      "execution_count": null,
      "metadata": {
        "colab": {
          "base_uri": "https://localhost:8080/"
        },
        "outputId": "aa053c74-72a0-469e-c32d-974ead6db498",
        "id": "T1peGTOM8Sz1"
      },
      "outputs": [
        {
          "output_type": "stream",
          "name": "stdout",
          "text": [
            "Su IMC por favor: 22.3\n",
            "Su estaura en metros por favor :1.64\n",
            "Peso = 59.97807999999999\n",
            "Su IMC por favor: 25\n",
            "Su masa en kilogramos por favor :78\n",
            "Estatura= 1.7663521732655694\n"
          ]
        }
      ],
      "source": [
        "# Solución propuesta\n",
        "#Definimos la función para calcular el peso\n",
        "def peso(i,e):\n",
        "   est=e\n",
        "   Peso=(i*(est**2))\n",
        "#Agregamos el return que contiene texto y las variables creadas\n",
        "   return(\"Peso = \"+ str(Peso))\n",
        "\n",
        "#Usamos un Input para que el usuario pueda poner su información\n",
        "i = float(input (\"Su IMC por favor: \"))\n",
        "e = float (input(\"Su estaura en metros por favor :\"))\n",
        "\n",
        "#Solicitamos el return de la funcion\n",
        "print(peso(i,e))\n",
        "\n",
        "#Definimos la función para calcular la estatura\n",
        "def estatura (i,m):\n",
        " imc=i\n",
        " Estatura=(m/imc)**(1/2)\n",
        "#Agregamos el return que contiene texto y las variables creadas\n",
        " return(\"Estatura= \"+ str(Estatura))\n",
        "\n",
        "#Usamos un Input para que el usuario pueda poner su información\n",
        "i = float(input (\"Su IMC por favor: \"))\n",
        "m = float (input(\"Su masa en kilogramos por favor :\"))\n",
        "#Solicitamos el return de la funcion\n",
        "print(estatura(i,m))"
      ]
    },
    {
      "cell_type": "code",
      "source": [],
      "metadata": {
        "colab": {
          "base_uri": "https://localhost:8080/"
        },
        "id": "vkHylkTnl5sC",
        "outputId": "2d6510ac-ed0a-4e6a-87d0-66b5b1a717cd"
      },
      "execution_count": null,
      "outputs": [
        {
          "output_type": "stream",
          "name": "stdout",
          "text": [
            "1.7663521732655694\n"
          ]
        }
      ]
    },
    {
      "cell_type": "markdown",
      "metadata": {
        "id": "Vk0XJ58tQAyW"
      },
      "source": [
        " ### **Ejercicio 2: Cantidad de centros de atención**\n",
        "\n",
        "Suponga que una eps tiene centros de salud de 3 tipos:\n",
        "\n",
        "- Tipo A: Atiende una pobración de 6530 personas\n",
        "\n",
        "- Tipo B: Atiende una población de 8324 personas\n",
        "\n",
        "- Tipo C: Atiende una población de 11450 personas\n",
        "\n",
        "Escriba un programa que le pregunte al usuario dos combinaciones de tipos de eps, compare entre esas dos combinaciones y establezca cuál de estas es la que mayor cantidad de usuarios impacta.\n",
        "\n",
        "Ej:\n",
        "\n",
        "**Entrada:**\n",
        "\n",
        "Combinación 1: 1 centro de tipo C.\n",
        "\n",
        "Combinación 2: 2 centros de tipo A.\n",
        "\n",
        "**salida:**\n",
        "\n",
        "La combinación 2 impacta más usuarios."
      ]
    },
    {
      "cell_type": "code",
      "execution_count": null,
      "metadata": {
        "colab": {
          "base_uri": "https://localhost:8080/"
        },
        "outputId": "c7907c4e-4705-49b1-9d80-4937af7c96f9",
        "id": "jH0eAQdW8aIB"
      },
      "outputs": [
        {
          "output_type": "stream",
          "name": "stdout",
          "text": [
            "Combinación 1 :\n",
            "Tipo A 1\n",
            "Tipo B 0\n",
            "Tipo C 1\n",
            "Población Impactada= 17980\n",
            "Combinación 2 :\n",
            "Tipo A 2\n",
            "Tipo B 0\n",
            "Tipo C 0\n",
            "Población Impactada= 13060\n",
            "La combinación 1 impacta más usuarios\n"
          ]
        }
      ],
      "source": [
        "# Solución propuesta\n",
        "#Definimos los valores constantes de la población atentida en cada tipo de centro de salud\n",
        "A=6530\n",
        "B=8324\n",
        "C=11450\n",
        "#Se crea la función para calcular la población atendida para cada combinación\n",
        "def poblacion(a,b,c):\n",
        "\n",
        " poblacion1 =(a* A)+(b * B)+(c * C)\n",
        "\n",
        " print(\"Población Impactada= \"+ str(poblacion1))\n",
        "#Agregamos el return de la función\n",
        " return(poblacion1)\n",
        "\n",
        "#Usamos un Input para que el usuario pueda ingresar los datos para las combinaciones\n",
        "\n",
        "print(\"Combinación 1 :\")\n",
        "a=int(input(\"Tipo A \"))\n",
        "b=int(input(\"Tipo B \"))\n",
        "c=int(input(\"Tipo C \"))\n",
        "#Solicitamos el return de la funcion\n",
        "p1=poblacion(a,b,c)\n",
        "\n",
        "print(\"Combinación 2 :\")\n",
        "a=int(input(\"Tipo A \"))\n",
        "b=int(input(\"Tipo B \"))\n",
        "c=int(input(\"Tipo C \"))\n",
        "#Solicitamos el return de la funcion\n",
        "p2=poblacion(a,b,c)\n",
        "\n",
        "#Agregamos un condicional para comparar los resultados de ambas combinaciones\n",
        "if p1<p2:\n",
        "  print(\"La combinación 2 impacta más usuarios\")\n",
        "elif p1>p2:\n",
        "    print(\"La combinación 1 impacta más usuarios\")\n"
      ]
    },
    {
      "cell_type": "markdown",
      "metadata": {
        "id": "p0hM5zMOH4ES"
      },
      "source": [
        "###  **Ejercicio 3: Costos de envío.**\n",
        "\n",
        "Una persona compró 3 productos en diferentes países. Los valores de envío en cada país varían de la siguiente forma: el primero tiene un costo del 15% sobre el valor original del producto. El segundo tiene un costo del 18% sobre el valor original del producto. El tercero tiene un costo del 12%  sobre el valor original del producto. Se necesita construir un programa que solicite al usuario el valor original de cada producto e imprima:\n",
        "\n",
        "* El valor total de los tres productos incluyendo los costos de envío (se debe sumar el valor de todos los productos con sus incrementos).\n",
        "* El promedio de los tres productos antes y después de realizar los incrementos\n"
      ]
    },
    {
      "cell_type": "code",
      "execution_count": null,
      "metadata": {
        "id": "QoKMiOnR8dtM"
      },
      "outputs": [],
      "source": [
        "# solución propuesta\n",
        "\n",
        "#Priemero usamos un Input para que el usuario pueda poner el precio que quiera, lo ponemos en float para que el igreso sea en numeros y puedan poner decimales\n",
        "Precio1 = float(input(\"Ingrese el valor del primer producto a importar:\"))\n",
        "Precio2 = float(input(\"Ingrese el valor del segundo producto a importar:\"))\n",
        "Precio3 = float(input(\"Ingrese el valor del tercer producto a importar:\"))\n",
        "#creamos las variables de los % de cada pais\n",
        "Pais = 0.15\n",
        "Pais2 = 0.18\n",
        "Pais3 = 0.12\n",
        "\n",
        "#Se crea la funcion\n",
        "def Valor_Import():\n",
        "  '''\n",
        "  Esta variable recibe y calcula los precios de 3 productos con su respectivo impuesto.\n",
        "\n",
        "  Para esto primero busca los precios que el usuario ingreso con los inputs globales\n",
        "  luego realiza las operaciones para calcular el precio mas los impuestos, el total y los promedios\n",
        "  al final nos retorna un texto con los precios, los promedios y el total.\n",
        "  '''\n",
        "  Valor_final1 = Precio1+(Precio1*Pais)\n",
        "  Valor_final2 = Precio2+(Precio2*Pais2)\n",
        "  Valor_final3 = Precio3+(Precio3*Pais3)\n",
        "  Prom1 = (Precio1+Precio2+Precio3)/3\n",
        "  Prom = (Valor_final1+Valor_final2+Valor_final3)/3\n",
        "  Total = Valor_final1+Valor_final2+Valor_final3\n",
        "  #Agregamos el return que contiene texto y las variables creadas\n",
        "  return (f'''\n",
        "  El valor del primer producto seria de:{Valor_final1},\n",
        "  el valor del segundo producto seria de: {Valor_final2},\n",
        "  el valor del tercer producto seria de:{Valor_final3},\n",
        "  el valor promedio seria de {Prom1:},\n",
        "  el valor promedio con impuestos seria de {Prom:}\n",
        "  y en total serian {Total}''' )\n",
        "\n",
        "#Solicitamos el return de la funcion\n",
        "print(Valor_Import())\n"
      ]
    },
    {
      "cell_type": "markdown",
      "metadata": {
        "id": "4moX5U5Crsyb"
      },
      "source": [
        "###  **Ejercicio 4: Estado.**\n",
        "\n",
        "Teniendo en cuenta los siguientes valores considerados como normales. Escriba un programa que solicite cada dato a un paciente partícular y muestre si el paciente esta en rangos normales o no.\n",
        "\n",
        "|Variable|Rango|Status|\n",
        "|---|---|---|\n",
        "|IMC|22,1 - 24,9| Normal|\n",
        "|Frecuencia Cardíaca|<70|Muy buena|\n",
        "|Presión Arterial|80 - 120|Normal|\n",
        "|Saturación de oxigeno|>95|Normal|\n"
      ]
    },
    {
      "cell_type": "code",
      "execution_count": null,
      "metadata": {
        "id": "6MTP_ZR_8pB0"
      },
      "outputs": [],
      "source": [
        "# solución propuesta\n",
        "\n",
        "#Creamos las variables que el usuario debe ingresar\n",
        "IMC = float(input(\"Ingrese su IMC: \"))\n",
        "Fre_Cardiaca = float(input(\"Ingrese su Frecuancia cardiaca: \"))\n",
        "Pre_Arter = int(float(input(\"Ingrese su Presión Arterial: \")))\n",
        "Satura_Oxge = int(float(input(\"Ingrese su Saturacion de Oxigeno: \")))\n",
        "\n",
        "def Estado_usuario():\n",
        "  '''\n",
        "  Esta funcion busca si el paciente esta en rangos normales o no.\n",
        "\n",
        "  Para esto usa las variables globales y realiza un If para ubicar en que rangos esta el usuario.\n",
        "  '''\n",
        "  if IMC >24.9:\n",
        "    A = \"-Su IMC esta por encima\"\n",
        "  elif IMC<22.1:\n",
        "    A=\"-Su IMC esta por debajo\"\n",
        "  else:\n",
        "    A=\"-Su IMC es normal\"\n",
        "  if Fre_Cardiaca >70:\n",
        "    B=\"-Su frecuencia cardiaca es muy buena\"\n",
        "  else:\n",
        "    B=\"-Revise su Frecuencia Arterial\"\n",
        "  if Pre_Arter>120:\n",
        "    C=\"-Presion Arterial Alta\"\n",
        "  elif Pre_Arter<80:\n",
        "    C=\"-Presion Arterial Baja\"\n",
        "  else:\n",
        "    C=\"-Presion Arterial Normal\"\n",
        "  if Satura_Oxge>95:\n",
        "    D=\"-Saturacion de Oxigeno normal\"\n",
        "  else:\n",
        "    D=\"-Saturacion de oxigeno baja\"\n",
        "  return A, B, C, D\n",
        "\n",
        "Estado_usuario()"
      ]
    },
    {
      "cell_type": "markdown",
      "metadata": {
        "id": "B1D2oSUkgxsx"
      },
      "source": [
        "###  **Ejercicio 5: Pacientes.**\n",
        "\n",
        "Tres médicos de la misma especialidad atienden cada uno un número especifico de pacientes. Para facilitar la asignación del siguiente control, se tiene en cuenta un criterio partícular, se toma la cantidad total de pacientes atendidos y se dividen en números iguales, los cuales se reparten entre los diferentes médicos antes mencionados. Los que no quedan en ninguno de estos grupos, se asignaran a una lista de prorizados.\n",
        "\n",
        "Escriba una programa que permita ingresar el número de pacientes atendidos por cada médico y devuelva la cantidad de pacientes en la lista de priorizados.\n",
        "\n",
        "**Ej:** Si en conjunto atienten 91 pacientes, para el siguiente control, de estos cada uno atenderá 30 y 1 estará en lista de priorizados.\n"
      ]
    },
    {
      "cell_type": "code",
      "execution_count": null,
      "metadata": {
        "id": "Xsx79bBQXvCG"
      },
      "outputs": [],
      "source": [
        "def distribucion(Pacientes):\n",
        "  '''\n",
        "  Esta funcion determina cuantos pacientes tiene que atender cada medico.\n",
        "\n",
        "  Para esto divide la cantidad de pacientes en tres, Luego saca los pacientes priorizados y nos devuelve un texto con la cantidad de pacientes y el priorizado.\n",
        "  '''\n",
        "\n",
        "  Medico = Pacientes//3\n",
        "  Priorizado = Pacientes % 3\n",
        "\n",
        "  return(f\"Para {Pacientes} pacientes, cada doctor debe atender {Medico} personas y hay {Priorizado} pacientes en lista de priorizados\")\n",
        "\n",
        "distribucion(92)"
      ]
    },
    {
      "cell_type": "markdown",
      "metadata": {
        "id": "8b3dd983"
      },
      "source": [
        "### **Ejercicio 1: Determinar el cuadrante**\n",
        "\n",
        "Suponga que despues de realizar una encuesta sobre la visión política y económica a diferentes ciudadanos, se obtienen dos valores que varían entre -50 y 50. El primero, eje horizontal, hace referencia a la tendencia política y el segundo a su visión económica. Contruya un programa que al leer estás dos opuntuaciones determine en que cuadrante se encuentra la persona teniendo como referencia el siguiente gráfico:\n",
        "\n",
        "<img src=\"https://upload.wikimedia.org/wikipedia/commons/thumb/c/cc/Political_chart_ES_yLR.svg/1200px-Political_chart_ES_yLR.svg.png\" alt=\"Political Chart\" width=\"600\" height=\"400\">\n",
        "\n",
        "\n",
        "Fuente: https://upload.wikimedia.org/wikipedia/commons/thumb/c/cc/Political_chart_ES_yLR.svg/1200px-Political_chart_ES_yLR.svg.png"
      ]
    },
    {
      "cell_type": "code",
      "source": [
        "# Solución propuesta\n",
        "\n",
        "Ejex = float(input(\"Ingrese su tendencia politica de -50 a 50:\"))\n",
        "Ejey = float(input(\"Ingrese su visión económica de -50 a 50:\"))\n",
        "\n",
        "def Politica(Ejex,Ejey):\n",
        "  '''\n",
        "  La funcion busca determianar en que cuadrante politico se encuantra una persona.\n",
        "\n",
        "  Para esto utiliza los datos utilizados en las variables globales, para esto se usa un input\n",
        "  luego la funcion realiza un if para determinar en que cuadrante esta.\n",
        "  Al final retorna en que cuadrante se encuentra la persona\n",
        "  '''\n",
        "  if Ejex>0 and Ejey>0:\n",
        "    A =\"Derecha Autoritaria\"\n",
        "  elif Ejex>0 and Ejey<0:\n",
        "    A=\"Izquierda Autoritaria\"\n",
        "  elif Ejex<0 and Ejey>0:\n",
        "    A=\"Derecha Libertaria\"\n",
        "  else:\n",
        "    A=\"izquierda Libertaria\"\n",
        "  return A\n",
        "\n",
        "Politica(Ejex, Ejey)"
      ],
      "metadata": {
        "id": "uBRkfGH68Jkp"
      },
      "execution_count": null,
      "outputs": []
    },
    {
      "cell_type": "markdown",
      "metadata": {
        "id": "919f8cc6"
      },
      "source": [
        "### **Ejercicio 2: calcular el IMC**\n",
        "\n",
        "Asuma que el riesgo de que una persona sufra problemas del corazón depende de su edad y de su índice de masa corporal (IMC)\n",
        "\n",
        "|          | Edad $<$ 45     | Edad $\\geq 45$ |\n",
        "|--------------|-----------|------------|\n",
        "| IMC $<$ 22    | Bajo      | Medio        |\n",
        "| IMC $\\geq 22$ | Medio  | Alto       |\n",
        "\n",
        "El índice de masa corporal (IMC) es el cociente entre el peso del individuo en kilos y el cuadrado de su altura en metros. Escriba un programa que reciba como entrada la altura, el peso y la edad de una persona, y entregue su IMC y su nivel actual del riesgo."
      ]
    },
    {
      "cell_type": "code",
      "source": [
        "def IMC(Altura,Peso,Edad):\n",
        "  '''\n",
        "  La funcion calcula el IMC de la persona segun su Altura y Peso, y puede complementar\n",
        "  con una alerta de riesgo de sufrir problemas de corazón según su IMC y la edad.\n",
        "  '''\n",
        "\n",
        "  C_IMC= Peso/(Altura**2) ## Calculo del IMC\n",
        "  IMC2 = f\"Su IMC es de {C_IMC}\"\n",
        "\n",
        "  #CONDICIONAL PARA GUARDAR LA ALERTA DE RIESGO\n",
        "  if C_IMC < 22 and Edad <45:\n",
        "      A = \"Riesgo bajo de sufrir problemas de corazón\"\n",
        "  elif C_IMC < 22 and Edad >=45:\n",
        "      A = \"Riesgo medio de sufrir problemas de corazón\"\n",
        "  elif C_IMC >= 22 and Edad <45:\n",
        "      A = \"Riesgo medio de sufrir problemas de corazón\"\n",
        "  else:\n",
        "      A = \"Riesgo Alto de sufrir problemas de corazón\"\n",
        "\n",
        "  return IMC2,A\n",
        "\n",
        "## EJECUCION DE LA FUNCION\n",
        "print(IMC(1.80,70,26))\n",
        "\n",
        "Altura = float(input(\"Por favor digite su altura en metros: \"))\n",
        "Peso = float(input(\"Por favor digite su peso en kg: \"))\n",
        "Edad = float(input(\"Por favor digite su edad: \"))\n",
        "IMC(Altura,Peso,Edad)"
      ],
      "metadata": {
        "id": "e7UCTG2k7Pcq",
        "colab": {
          "base_uri": "https://localhost:8080/"
        },
        "outputId": "501b391b-e975-41c3-ed50-4eac85b9c466"
      },
      "execution_count": null,
      "outputs": [
        {
          "name": "stdout",
          "output_type": "stream",
          "text": [
            "('Su IMC es de 21.604938271604937', 'Riesgo bajo de sufrir problemas de corazón')\n",
            "Por favor digite su altura en metros: 1.8\n",
            "Por favor digite su peso en kg: 80\n",
            "Por favor digite su edad: 50\n"
          ]
        },
        {
          "output_type": "execute_result",
          "data": {
            "text/plain": [
              "('Su IMC es de 24.691358024691358',\n",
              " 'Riesgo Alto de sufrir problemas de corazón')"
            ]
          },
          "metadata": {},
          "execution_count": 10
        }
      ]
    },
    {
      "cell_type": "markdown",
      "metadata": {
        "id": "30f04e13"
      },
      "source": [
        "### __Ejercicio 3: ordenar pacientes__\n",
        "\n",
        "Diseñe un programa que lea el grupo poblacional de 3 pacientes y los ordene por prioridad de atención y/o orden de llegada\n",
        "\n",
        "Ej:\n",
        "- *Entrada:*\n",
        "    Niño, Adulto mayor, Adulto\n",
        "- *Salida:*\n",
        "    Adulto mayor, Niño, Adulto\n",
        "    "
      ]
    },
    {
      "cell_type": "code",
      "source": [
        "# Paciente1 = int(input(\"Teniendo en cuenta la siguiente clasificación (1=Adulto Mayor, 2=Niño, 3=Adulto), por favor ingrese la primera persona en llegar al hospital: \"))\n",
        "def Orden_Pacientes(Paciente1,Paciente2,Paciente3):\n",
        "  '''\n",
        "  La idea de la función, es ordenar por prioridad la atención que reciben los pacientes de una EPS,\n",
        "  primero se atiende el adulto mayor, luego los niños y finalmente los adultos,\n",
        "  la función recibe los inputs numéricos de acuerdo a la siguiente clasificación.\n",
        "  de acuerdo a la siguiente clasificación (1=Adulto Mayor, 2=Niño, 3=Adulto).\n",
        "\n",
        "  Internamente, la funcion recibe los inputs numericos, luego los ordena y finalmente\n",
        "  se hace un bucle o loop con el objetivo de reemplazar la clasificacion numerica con texto.\n",
        "  '''\n",
        "\n",
        "\n",
        "  Lista = [int(Paciente1),int(Paciente2),int(Paciente3)]   #Se guardan los pacientes en una lista\n",
        "  Lista.sort()  #Ordenar la lista\n",
        "\n",
        "  # Bucle para cambiar el numero por texto\n",
        "  for i in range(len(Lista)):\n",
        "    if Lista[i] == 1:\n",
        "      Lista[i] = \"Adulto Mayor\"\n",
        "    elif Lista[i] == 2:\n",
        "      Lista[i] = \"Niño\"\n",
        "    elif Lista[i] == 3:\n",
        "      Lista[i] = \"Adulto\"\n",
        "    else:\n",
        "      Lista[i] = \"No hay clasificación para el input\"\n",
        "\n",
        "  return(Lista)\n",
        "\n",
        "## Ejecucion de la funcion\n",
        "print(Orden_Pacientes(2,3,1))\n",
        "print(Orden_Pacientes(\"1\",\"3\",\"1\"))"
      ],
      "metadata": {
        "id": "VjQr0nwn7Q8h",
        "colab": {
          "base_uri": "https://localhost:8080/"
        },
        "outputId": "476d3aa9-5840-41f2-b40f-284296f7cf8e"
      },
      "execution_count": null,
      "outputs": [
        {
          "output_type": "stream",
          "name": "stdout",
          "text": [
            "['Adulto Mayor', 'Niño', 'Adulto']\n",
            "['Adulto Mayor', 'Adulto Mayor', 'Adulto']\n"
          ]
        }
      ]
    },
    {
      "cell_type": "code",
      "source": [
        "Orden_Pacientes.__doc__\n",
        "help(Orden_Pacientes)"
      ],
      "metadata": {
        "colab": {
          "base_uri": "https://localhost:8080/"
        },
        "id": "anb-m2qOcejn",
        "outputId": "2cb14ec3-bc92-4790-c0ea-f50a62ea15a2"
      },
      "execution_count": null,
      "outputs": [
        {
          "output_type": "stream",
          "name": "stdout",
          "text": [
            "Help on function Orden_Pacientes in module __main__:\n",
            "\n",
            "Orden_Pacientes(Paciente1, Paciente2, Paciente3)\n",
            "    La idea de la función, es ordenar por prioridad la atención que reciben los pacientes de una EPS, \n",
            "    primero se atiende el adulto mayor, luego los niños y finalmente los adultos, \n",
            "    la función recibe los inputs numéricos de acuerdo a la siguiente clasificación. \n",
            "    de acuerdo a la siguiente clasificación (1=Adulto Mayor, 2=Niño, 3=Adulto).\n",
            "    \n",
            "    Internamente, la funcion recibe los inputs numericos, luego los ordena y finalmente \n",
            "    se hace un bucle o loop con el objetivo de reemplazar la clasificacion numerica con texto.\n",
            "\n"
          ]
        }
      ]
    },
    {
      "cell_type": "markdown",
      "metadata": {
        "id": "f2bff57c"
      },
      "source": [
        "### **Ejercicio 4: cuanto se paga**\n",
        "\n",
        "Un laboratorio clínico ofrce los siguientes servicios:\n",
        "\n",
        "|servicio | Tarifa  |\n",
        "|---|---|\n",
        "|mamografía | \\$ 26450 |\n",
        "|Tomografía | \\$ 64740 |\n",
        "|Ecografía | \\$ 27920 |\n",
        "|Resonancia magnética | \\$ 96370 |\n",
        "|Rediografía convencional | \\$ 12970 |\n",
        "\n",
        "Para los clientes de cierta EPS se ofrecen descuentos según su categoría:\n",
        "\n",
        "|Categoría | Descuento  |\n",
        "|---|---|\n",
        "|A | 40\\% |\n",
        "|B | 30\\% |\n",
        "|C | 10\\% |\n",
        "|D | 5\\% |\n",
        "\n",
        "- Construya un programa que muestre el costo que pagará el cliente de acuerdo con el producto y su categoría.\n",
        "\n",
        "- Construya un programa que compare el costo de dos pacientes que toman dos servicios."
      ]
    },
    {
      "cell_type": "code",
      "source": [
        "# Solución propuesta\n",
        "\n",
        "mamografia=26450\n",
        "Tomografia=64740\n",
        "Ecografia=27920\n",
        "Resonancia_magnetica=96370\n",
        "Rediografia_convencional=12970\n",
        "\n",
        "A = 0.60\n",
        "B = 0.70\n",
        "C = 0.90\n",
        "D = 0.95\n",
        "\n",
        "def Categoria():\n",
        "  '''\n",
        "  Esta Funcion primero pide al usuario ingresar su categoria, para despues mostrar el costo de los servicios\n",
        "  dependiendo de su categoria.\n",
        "\n",
        "  Internamente se empieza con un input que guarda categoria, Luego con un if busca en que categoria esta para realizar las\n",
        "  operaciones y mostrar al final el precio final de cada servicio.\n",
        "  '''\n",
        "  catego = input(\"Seleccione su categoria [A, B, C o D]: \")\n",
        "  if catego == \"A\"or catego == \"a\":\n",
        "    catego = A\n",
        "  elif catego == \"B\"or catego == \"b\":\n",
        "    catego = B\n",
        "  elif catego == \"C\"or catego == \"c\":\n",
        "    catego = C\n",
        "  elif catego ==\"D\"or catego == \"d\":\n",
        "    catego = D\n",
        "  else:\n",
        "    catego=\"Error\"\n",
        "  Mamografia_Op = mamografia*catego\n",
        "  Tomografia_Op = Tomografia*catego\n",
        "  Ecografia_Op = Ecografia*catego\n",
        "  Resonancia_magnetica_Op = Resonancia_magnetica*catego\n",
        "  Rediografia_convencional_Op = Rediografia_convencional*catego\n",
        "  return f'''El costo de los servicios segun su categoria seria:\n",
        "  Mamografía: {Mamografia_Op}\n",
        "  Tomografía:{Tomografia_Op}\n",
        "  Ecografía:{Ecografia_Op}\n",
        "  Resonancia Magnetica:{Resonancia_magnetica_Op}\n",
        "  Radiografia Convencional:{Rediografia_convencional_Op}\n",
        "  '''\n",
        "print(Categoria())\n",
        "Usua_1 = Categoria()\n",
        "Usua_2= Categoria()\n",
        "\n",
        "def comparacion(Usua_1, Usua_2):\n",
        "  '''\n",
        "  Esta Funcion busca comparar los precios de dos usuarios de diferentes categorias utilizando la funcion \"Categoria()\" como base.\n",
        "  '''\n",
        "  return f'''\n",
        "  El costo de los servicios para el usuario 1 seria de:{Usua_1}\n",
        "  El costo de los servicios para el usuario 2 seria de:{Usua_2}\n",
        "  '''\n",
        "\n",
        "print(comparacion(Usua_1, Usua_2))\n",
        "\n"
      ],
      "metadata": {
        "id": "khpGiSgC7SBI",
        "colab": {
          "base_uri": "https://localhost:8080/"
        },
        "outputId": "2e739809-3e2b-4dee-80aa-2c12ef4c398b"
      },
      "execution_count": null,
      "outputs": [
        {
          "output_type": "stream",
          "name": "stdout",
          "text": [
            "Seleccione su categoria [A, B, C o D]: A\n",
            "Seleccione su categoria [A, B, C o D]: B\n",
            "\n",
            "  El costo de los servicios para el usuario 1 seria de:El costo de los servicios segun su categoria seria:\n",
            "  Mamografía: 15870.0\n",
            "  Tomografía:38844.0\n",
            "  Ecografía:16752.0\n",
            "  Resonancia Magnetica:57822.0\n",
            "  Radiografia Convencional:7782.0\n",
            "  \n",
            "  El costo de los servicios para el usuario 2 seria de:El costo de los servicios segun su categoria seria:\n",
            "  Mamografía: 18515.0\n",
            "  Tomografía:45318.0\n",
            "  Ecografía:19544.0\n",
            "  Resonancia Magnetica:67459.0\n",
            "  Radiografia Convencional:9079.0\n",
            "  \n",
            "  \n"
          ]
        }
      ]
    }
  ]
}